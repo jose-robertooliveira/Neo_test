{
 "cells": [
  {
   "cell_type": "code",
   "execution_count": null,
   "id": "ac02fd3e",
   "metadata": {},
   "outputs": [],
   "source": [
    "import pandas as pd\n",
    "import numpy as np"
   ]
  },
  {
   "cell_type": "code",
   "execution_count": null,
   "id": "3fae9b4c",
   "metadata": {},
   "outputs": [],
   "source": [
    "df = pd.read_csv('base_beta.csv', sep=';')\n",
    "\n",
    "df.head()\n"
   ]
  },
  {
   "cell_type": "code",
   "execution_count": null,
   "id": "f2a21691",
   "metadata": {},
   "outputs": [],
   "source": [
    "#remoção de espaços em branco entre as colunas \n",
    "df = pd.read_csv('base_beta.csv', sep=';', skipinitialspace=True)\n",
    "df.columns = df.columns.str.strip()\n",
    "\n",
    "print(df.columns)"
   ]
  },
  {
   "cell_type": "code",
   "execution_count": null,
   "id": "5c7e9d36",
   "metadata": {},
   "outputs": [],
   "source": [
    "df.columns = pd.read_csv('base_beta.csv', sep=';', index_col=False).columns.tolist()\n",
    "\n",
    "df"
   ]
  },
  {
   "cell_type": "code",
   "execution_count": null,
   "id": "ba4e8717",
   "metadata": {},
   "outputs": [],
   "source": [
    "#renomeando colunas,tirando acentos\n",
    "df.columns = ['cpf', 'private', 'incompleto', 'data_da_ultima_compra', 'ticket_medio', \n",
    "              'ticket_da_ultima_compra', 'loja_mais_frequente', 'loja_da_ultima_compra']\n",
    "\n",
    "display(df)"
   ]
  },
  {
   "cell_type": "code",
   "execution_count": null,
   "id": "10d56eb9",
   "metadata": {},
   "outputs": [],
   "source": [
    "#converter as datas para o padrão datetime\n",
    "df['data_da_ultima_compra'] = pd.to_datetime(df['data_da_ultima_compra'], infer_datetime_format=True)\n"
   ]
  },
  {
   "cell_type": "code",
   "execution_count": null,
   "id": "2f137e56",
   "metadata": {},
   "outputs": [],
   "source": [
    "df.dtypes"
   ]
  },
  {
   "cell_type": "code",
   "execution_count": null,
   "id": "bd2d0709",
   "metadata": {},
   "outputs": [],
   "source": [
    "df.columns"
   ]
  },
  {
   "cell_type": "code",
   "execution_count": null,
   "id": "5ed13415",
   "metadata": {},
   "outputs": [],
   "source": [
    "new_df = df[['cpf', 'private', 'incompleto', 'data_da_ultima_compra', 'ticket_medio', \n",
    "              'ticket_da_ultima_compra', 'loja_mais_frequente', 'loja_da_ultima_compra']]\n"
   ]
  },
  {
   "cell_type": "code",
   "execution_count": null,
   "id": "9b0ca611",
   "metadata": {},
   "outputs": [],
   "source": [
    "new_df.head()"
   ]
  },
  {
   "cell_type": "code",
   "execution_count": null,
   "id": "95bb0eaa",
   "metadata": {},
   "outputs": [],
   "source": [
    "#cópia de um novo arquivo .csv\n",
    "new_df.to_csv('new_base.csv', index=False)"
   ]
  },
  {
   "cell_type": "code",
   "execution_count": null,
   "id": "fb4cc249",
   "metadata": {},
   "outputs": [],
   "source": []
  }
 ],
 "metadata": {
  "kernelspec": {
   "display_name": "Python 3 (ipykernel)",
   "language": "python",
   "name": "python3"
  },
  "language_info": {
   "codemirror_mode": {
    "name": "ipython",
    "version": 3
   },
   "file_extension": ".py",
   "mimetype": "text/x-python",
   "name": "python",
   "nbconvert_exporter": "python",
   "pygments_lexer": "ipython3",
   "version": "3.10.4"
  }
 },
 "nbformat": 4,
 "nbformat_minor": 5
}
